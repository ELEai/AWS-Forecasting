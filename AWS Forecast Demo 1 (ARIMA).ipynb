{
 "cells": [
  {
   "cell_type": "markdown",
   "metadata": {},
   "source": [
    "# AWS Forecast Demo with ELE.ai (ARIMA)"
   ]
  },
  {
   "cell_type": "code",
   "execution_count": 100,
   "metadata": {},
   "outputs": [],
   "source": [
    "# Libraries\n",
    "import boto3\n",
    "import datetime\n",
    "import pandas as pd\n",
    "from time import sleep\n",
    "from io import StringIO\n",
    "import matplotlib.pyplot as plt"
   ]
  },
  {
   "cell_type": "markdown",
   "metadata": {},
   "source": [
    "## Step 1: Configure the CLI\n",
    "\n",
    "download SDK files from [github](https://github.com/aws-samples/amazon-forecast-samples/tree/master/sdk) and [configure CLI ](https://docs.aws.amazon.com/forecast/latest/dg/aws-forecast-set-up-aws-cli.html)"
   ]
  },
  {
   "cell_type": "code",
   "execution_count": 2,
   "metadata": {},
   "outputs": [
    {
     "name": "stdout",
     "output_type": "stream",
     "text": [
      "--2019-05-03 23:24:07--  https://raw.githubusercontent.com/aws-samples/amazon-forecast-samples/master/sdk/forecast-2018-06-26.normal.json\r\n",
      "Resolving raw.githubusercontent.com (raw.githubusercontent.com)... 151.101.200.133\r\n",
      "Connecting to raw.githubusercontent.com (raw.githubusercontent.com)|151.101.200.133|:443... connected.\r\n",
      "HTTP request sent, awaiting response... 200 OK\r\n",
      "Length: 110635 (108K) [text/plain]\r\n",
      "Saving to: ‘setup_files/forecast-2018-06-26.normal.json.1’\r\n",
      "\r\n",
      "forecast-2018-06-26 100%[===================>] 108.04K  --.-KB/s    in 0.004s  \r\n",
      "\r\n",
      "2019-05-03 23:24:07 (23.7 MB/s) - ‘setup_files/forecast-2018-06-26.normal.json.1’ saved [110635/110635]\r\n",
      "\r\n"
     ]
    }
   ],
   "source": [
    "! wget https://raw.githubusercontent.com/aws-samples/amazon-forecast-samples/master/sdk/forecast-2018-06-26.normal.json -P setup_files"
   ]
  },
  {
   "cell_type": "code",
   "execution_count": 3,
   "metadata": {},
   "outputs": [
    {
     "name": "stdout",
     "output_type": "stream",
     "text": [
      "--2019-05-03 23:24:07--  https://raw.githubusercontent.com/aws-samples/amazon-forecast-samples/master/sdk/forecastquery-2018-06-26.normal.json\r\n",
      "Resolving raw.githubusercontent.com (raw.githubusercontent.com)... 151.101.200.133\r\n",
      "Connecting to raw.githubusercontent.com (raw.githubusercontent.com)|151.101.200.133|:443... connected.\r\n",
      "HTTP request sent, awaiting response... 200 OK\r\n",
      "Length: 10198 (10.0K) [text/plain]\r\n",
      "Saving to: ‘setup_files/forecastquery-2018-06-26.normal.json.1’\r\n",
      "\r\n",
      "forecastquery-2018- 100%[===================>]   9.96K  --.-KB/s    in 0s      \r\n",
      "\r\n",
      "2019-05-03 23:24:07 (145 MB/s) - ‘setup_files/forecastquery-2018-06-26.normal.json.1’ saved [10198/10198]\r\n",
      "\r\n"
     ]
    }
   ],
   "source": [
    "! wget https://raw.githubusercontent.com/aws-samples/amazon-forecast-samples/master/sdk/forecastquery-2018-06-26.normal.json -P setup_files"
   ]
  },
  {
   "cell_type": "code",
   "execution_count": 4,
   "metadata": {},
   "outputs": [],
   "source": [
    "# Configures your AWS CLI to interact with AWS Forecast Service\n",
    "! aws configure add-model --service-name forecast --service-model file://setup_files/forecast-2018-06-26.normal.json\n",
    "! aws configure add-model --service-name forecastquery --service-model file://setup_files/forecastquery-2018-06-26.normal.json"
   ]
  },
  {
   "cell_type": "markdown",
   "metadata": {},
   "source": [
    "## Step 2: Start Boto Session & Define S3 Bucket"
   ]
  },
  {
   "cell_type": "code",
   "execution_count": 5,
   "metadata": {},
   "outputs": [],
   "source": [
    "session = boto3.Session(region_name='us-east-1') #also available in us-west-2\n",
    "forecast = session.client(service_name='forecast')\n",
    "forecastquery = session.client(service_name='forecastquery')"
   ]
  },
  {
   "cell_type": "code",
   "execution_count": 6,
   "metadata": {},
   "outputs": [
    {
     "name": "stdout",
     "output_type": "stream",
     "text": [
      "{\r\n",
      "    \"Location\": \"/forecast-demo-ele\"\r\n",
      "}\r\n"
     ]
    }
   ],
   "source": [
    "# us-east-1 or us-west-2\n",
    "! aws s3api create-bucket --bucket forecast-demo-ele --region us-east-1"
   ]
  },
  {
   "cell_type": "markdown",
   "metadata": {},
   "source": [
    "## Step 3: Define IAM role "
   ]
  },
  {
   "cell_type": "code",
   "execution_count": 7,
   "metadata": {},
   "outputs": [],
   "source": [
    "role_name = 'amazonforecast'\n",
    "accountId = boto3.client('sts').get_caller_identity().get('Account')\n",
    "role = 'arn:aws:iam::{}:role/{}'.format(accountId, role_name)"
   ]
  },
  {
   "cell_type": "markdown",
   "metadata": {},
   "source": [
    "## Step 4: Load & Transform Dataset\n",
    "\n",
    "### Target Time Series"
   ]
  },
  {
   "cell_type": "code",
   "execution_count": 8,
   "metadata": {},
   "outputs": [
    {
     "data": {
      "text/html": [
       "<div>\n",
       "<style scoped>\n",
       "    .dataframe tbody tr th:only-of-type {\n",
       "        vertical-align: middle;\n",
       "    }\n",
       "\n",
       "    .dataframe tbody tr th {\n",
       "        vertical-align: top;\n",
       "    }\n",
       "\n",
       "    .dataframe thead th {\n",
       "        text-align: right;\n",
       "    }\n",
       "</style>\n",
       "<table border=\"1\" class=\"dataframe\">\n",
       "  <thead>\n",
       "    <tr style=\"text-align: right;\">\n",
       "      <th></th>\n",
       "      <th>Store</th>\n",
       "      <th>Dept</th>\n",
       "      <th>Date</th>\n",
       "      <th>Weekly_Sales</th>\n",
       "      <th>IsHoliday</th>\n",
       "    </tr>\n",
       "  </thead>\n",
       "  <tbody>\n",
       "    <tr>\n",
       "      <th>0</th>\n",
       "      <td>1</td>\n",
       "      <td>1</td>\n",
       "      <td>2010-02-05</td>\n",
       "      <td>24924.50</td>\n",
       "      <td>False</td>\n",
       "    </tr>\n",
       "    <tr>\n",
       "      <th>1</th>\n",
       "      <td>1</td>\n",
       "      <td>1</td>\n",
       "      <td>2010-02-12</td>\n",
       "      <td>46039.49</td>\n",
       "      <td>True</td>\n",
       "    </tr>\n",
       "    <tr>\n",
       "      <th>2</th>\n",
       "      <td>1</td>\n",
       "      <td>1</td>\n",
       "      <td>2010-02-19</td>\n",
       "      <td>41595.55</td>\n",
       "      <td>False</td>\n",
       "    </tr>\n",
       "    <tr>\n",
       "      <th>3</th>\n",
       "      <td>1</td>\n",
       "      <td>1</td>\n",
       "      <td>2010-02-26</td>\n",
       "      <td>19403.54</td>\n",
       "      <td>False</td>\n",
       "    </tr>\n",
       "    <tr>\n",
       "      <th>4</th>\n",
       "      <td>1</td>\n",
       "      <td>1</td>\n",
       "      <td>2010-03-05</td>\n",
       "      <td>21827.90</td>\n",
       "      <td>False</td>\n",
       "    </tr>\n",
       "  </tbody>\n",
       "</table>\n",
       "</div>"
      ],
      "text/plain": [
       "   Store  Dept        Date  Weekly_Sales  IsHoliday\n",
       "0      1     1  2010-02-05      24924.50      False\n",
       "1      1     1  2010-02-12      46039.49       True\n",
       "2      1     1  2010-02-19      41595.55      False\n",
       "3      1     1  2010-02-26      19403.54      False\n",
       "4      1     1  2010-03-05      21827.90      False"
      ]
     },
     "execution_count": 8,
     "metadata": {},
     "output_type": "execute_result"
    }
   ],
   "source": [
    "df1 = pd.read_csv(\"data/train.csv\")\n",
    "df1.head()"
   ]
  },
  {
   "cell_type": "code",
   "execution_count": 9,
   "metadata": {},
   "outputs": [],
   "source": [
    "df1.Store = df1.Store.astype('str')\n",
    "df1.Dept = df1.Dept.astype('str')\n",
    "df1.IsHoliday = [1 if i else 0 for i in df1.IsHoliday]\n",
    "df1.Date = df1.Date.astype('datetime64[ns]')"
   ]
  },
  {
   "cell_type": "code",
   "execution_count": 10,
   "metadata": {},
   "outputs": [
    {
     "data": {
      "text/html": [
       "<div>\n",
       "<style scoped>\n",
       "    .dataframe tbody tr th:only-of-type {\n",
       "        vertical-align: middle;\n",
       "    }\n",
       "\n",
       "    .dataframe tbody tr th {\n",
       "        vertical-align: top;\n",
       "    }\n",
       "\n",
       "    .dataframe thead th {\n",
       "        text-align: right;\n",
       "    }\n",
       "</style>\n",
       "<table border=\"1\" class=\"dataframe\">\n",
       "  <thead>\n",
       "    <tr style=\"text-align: right;\">\n",
       "      <th></th>\n",
       "      <th>Store</th>\n",
       "      <th>Dept</th>\n",
       "      <th>Date</th>\n",
       "      <th>Weekly_Sales</th>\n",
       "      <th>IsHoliday</th>\n",
       "    </tr>\n",
       "  </thead>\n",
       "  <tbody>\n",
       "    <tr>\n",
       "      <th>0</th>\n",
       "      <td>1</td>\n",
       "      <td>1</td>\n",
       "      <td>2010-02-05</td>\n",
       "      <td>24924.50</td>\n",
       "      <td>0</td>\n",
       "    </tr>\n",
       "    <tr>\n",
       "      <th>1</th>\n",
       "      <td>1</td>\n",
       "      <td>1</td>\n",
       "      <td>2010-02-12</td>\n",
       "      <td>46039.49</td>\n",
       "      <td>1</td>\n",
       "    </tr>\n",
       "    <tr>\n",
       "      <th>2</th>\n",
       "      <td>1</td>\n",
       "      <td>1</td>\n",
       "      <td>2010-02-19</td>\n",
       "      <td>41595.55</td>\n",
       "      <td>0</td>\n",
       "    </tr>\n",
       "    <tr>\n",
       "      <th>3</th>\n",
       "      <td>1</td>\n",
       "      <td>1</td>\n",
       "      <td>2010-02-26</td>\n",
       "      <td>19403.54</td>\n",
       "      <td>0</td>\n",
       "    </tr>\n",
       "    <tr>\n",
       "      <th>4</th>\n",
       "      <td>1</td>\n",
       "      <td>1</td>\n",
       "      <td>2010-03-05</td>\n",
       "      <td>21827.90</td>\n",
       "      <td>0</td>\n",
       "    </tr>\n",
       "  </tbody>\n",
       "</table>\n",
       "</div>"
      ],
      "text/plain": [
       "  Store Dept       Date  Weekly_Sales  IsHoliday\n",
       "0     1    1 2010-02-05      24924.50          0\n",
       "1     1    1 2010-02-12      46039.49          1\n",
       "2     1    1 2010-02-19      41595.55          0\n",
       "3     1    1 2010-02-26      19403.54          0\n",
       "4     1    1 2010-03-05      21827.90          0"
      ]
     },
     "execution_count": 10,
     "metadata": {},
     "output_type": "execute_result"
    }
   ],
   "source": [
    "df1.head()"
   ]
  },
  {
   "cell_type": "code",
   "execution_count": 11,
   "metadata": {},
   "outputs": [
    {
     "data": {
      "text/html": [
       "<div>\n",
       "<style scoped>\n",
       "    .dataframe tbody tr th:only-of-type {\n",
       "        vertical-align: middle;\n",
       "    }\n",
       "\n",
       "    .dataframe tbody tr th {\n",
       "        vertical-align: top;\n",
       "    }\n",
       "\n",
       "    .dataframe thead th {\n",
       "        text-align: right;\n",
       "    }\n",
       "</style>\n",
       "<table border=\"1\" class=\"dataframe\">\n",
       "  <thead>\n",
       "    <tr style=\"text-align: right;\">\n",
       "      <th></th>\n",
       "      <th>timestamp</th>\n",
       "      <th>demand</th>\n",
       "      <th>item_id</th>\n",
       "      <th>location</th>\n",
       "    </tr>\n",
       "  </thead>\n",
       "  <tbody>\n",
       "    <tr>\n",
       "      <th>0</th>\n",
       "      <td>2010-02-05</td>\n",
       "      <td>24924.50</td>\n",
       "      <td>1</td>\n",
       "      <td>1</td>\n",
       "    </tr>\n",
       "    <tr>\n",
       "      <th>1</th>\n",
       "      <td>2010-02-12</td>\n",
       "      <td>46039.49</td>\n",
       "      <td>1</td>\n",
       "      <td>1</td>\n",
       "    </tr>\n",
       "    <tr>\n",
       "      <th>2</th>\n",
       "      <td>2010-02-19</td>\n",
       "      <td>41595.55</td>\n",
       "      <td>1</td>\n",
       "      <td>1</td>\n",
       "    </tr>\n",
       "    <tr>\n",
       "      <th>3</th>\n",
       "      <td>2010-02-26</td>\n",
       "      <td>19403.54</td>\n",
       "      <td>1</td>\n",
       "      <td>1</td>\n",
       "    </tr>\n",
       "    <tr>\n",
       "      <th>4</th>\n",
       "      <td>2010-03-05</td>\n",
       "      <td>21827.90</td>\n",
       "      <td>1</td>\n",
       "      <td>1</td>\n",
       "    </tr>\n",
       "  </tbody>\n",
       "</table>\n",
       "</div>"
      ],
      "text/plain": [
       "   timestamp    demand item_id location\n",
       "0 2010-02-05  24924.50       1        1\n",
       "1 2010-02-12  46039.49       1        1\n",
       "2 2010-02-19  41595.55       1        1\n",
       "3 2010-02-26  19403.54       1        1\n",
       "4 2010-03-05  21827.90       1        1"
      ]
     },
     "execution_count": 11,
     "metadata": {},
     "output_type": "execute_result"
    }
   ],
   "source": [
    "df1 = df1[[\"Store\",\"Dept\",\"Date\",\"Weekly_Sales\"]]\n",
    "df1.columns = [\"location\",\"item_id\",\"timestamp\",\"demand\"]\n",
    "df1 = df1[[\"timestamp\",\"demand\",\"item_id\",\"location\"]]\n",
    "df1.head()"
   ]
  },
  {
   "cell_type": "markdown",
   "metadata": {},
   "source": [
    "### Upload to s3"
   ]
  },
  {
   "cell_type": "code",
   "execution_count": 12,
   "metadata": {},
   "outputs": [
    {
     "name": "stdout",
     "output_type": "stream",
     "text": [
      "upload: data/target.csv to s3://forecast-demo-ele/input/target.csv\n"
     ]
    }
   ],
   "source": [
    "df1.to_csv(\"data/target.csv\", header=True, index=False)\n",
    "! aws s3 cp data/target.csv s3://forecast-demo-ele/input/target.csv"
   ]
  },
  {
   "cell_type": "markdown",
   "metadata": {},
   "source": [
    "## Step 5: Create Dataset & Dataset Group in AWS Forecast"
   ]
  },
  {
   "cell_type": "code",
   "execution_count": 13,
   "metadata": {},
   "outputs": [],
   "source": [
    "schema ={\n",
    "               \"Attributes\":[\n",
    "                  {\n",
    "                     \"AttributeName\":\"timestamp\",\n",
    "                     \"AttributeType\":\"timestamp\"\n",
    "                  },\n",
    "                  {\n",
    "                     \"AttributeName\":\"demand\",\n",
    "                     \"AttributeType\":\"float\"\n",
    "                  },\n",
    "                  {\n",
    "                     \"AttributeName\":\"item_id\",\n",
    "                     \"AttributeType\":\"string\"\n",
    "                  },\n",
    "                   {\n",
    "                     \"AttributeName\":\"location\",\n",
    "                     \"AttributeType\":\"string\"\n",
    "                  }\n",
    "               ]\n",
    "            }"
   ]
  },
  {
   "cell_type": "code",
   "execution_count": 14,
   "metadata": {},
   "outputs": [
    {
     "name": "stdout",
     "output_type": "stream",
     "text": [
      "0:00:00.163363\n"
     ]
    }
   ],
   "source": [
    "stime = datetime.datetime.now()\n",
    "\n",
    "forecast.create_dataset(\n",
    "                        Domain=\"RETAIL\",\n",
    "                        DatasetType='TARGET_TIME_SERIES',\n",
    "                        DataFormat='CSV',\n",
    "                        DatasetName= 'target',\n",
    "                        DataFrequency=\"W\", \n",
    "                        TimeStampFormat=\"yyyy-MM-dd hh:mm:ss\",\n",
    "                        Schema = schema\n",
    "                        )\n",
    "\n",
    "print(datetime.datetime.now() - stime) "
   ]
  },
  {
   "cell_type": "code",
   "execution_count": 15,
   "metadata": {},
   "outputs": [
    {
     "name": "stdout",
     "output_type": "stream",
     "text": [
      "0:00:00.213361\n"
     ]
    }
   ],
   "source": [
    "stime = datetime.datetime.now()\n",
    "\n",
    "groupname = 'eledemo1'\n",
    "forecast.create_dataset_group(DatasetGroupName=groupname,RoleArn=role,DatasetNames=[\"target\"])\n",
    "forecast.describe_dataset_group(DatasetGroupName=groupname)\n",
    "\n",
    "print(datetime.datetime.now() - stime) "
   ]
  },
  {
   "cell_type": "markdown",
   "metadata": {},
   "source": [
    "## Step 7: Import Dataset in AWS Forecast"
   ]
  },
  {
   "cell_type": "code",
   "execution_count": 16,
   "metadata": {},
   "outputs": [
    {
     "name": "stdout",
     "output_type": "stream",
     "text": [
      "DATASET VERSION ID:  47169e7d\n",
      "importing dataset...\n",
      "0:02:31.376934\n"
     ]
    }
   ],
   "source": [
    "stime = datetime.datetime.now()\n",
    "\n",
    "path = 's3://forecast-demo-ele/input/target.csv'\n",
    "import_job =forecast.create_dataset_import_job(\n",
    "                                                DatasetName='target', \n",
    "                                                Delimiter=',', \n",
    "                                                DatasetGroupName = groupname, \n",
    "                                                S3Uri= path)\n",
    "vId = import_job['VersionId']\n",
    "print(\"DATASET VERSION ID: \", vId)\n",
    "print(\"importing dataset...\")\n",
    "while True:\n",
    "    ImportStatus = forecast.describe_dataset_import_job(DatasetName='target', VersionId=vId)['Status']\n",
    "    if ImportStatus != 'ACTIVE' and ImportStatus != 'FAILED':\n",
    "        sleep(10)\n",
    "    else:\n",
    "        break\n",
    "    \n",
    "if forecast.describe_dataset(DatasetName='target')['Status'] == 'FAILED':\n",
    "    print(\"import job failed\")\n",
    "else:\n",
    "    print(datetime.datetime.now() - stime) "
   ]
  },
  {
   "cell_type": "markdown",
   "metadata": {},
   "source": [
    "## Step 8: Train Predictor Model in AWS Forecast"
   ]
  },
  {
   "cell_type": "code",
   "execution_count": 17,
   "metadata": {},
   "outputs": [
    {
     "data": {
      "text/plain": [
       "['forecast_ARIMA',\n",
       " 'forecast_DEEP_AR',\n",
       " 'forecast_DEEP_AR_PLUS',\n",
       " 'forecast_ETS',\n",
       " 'forecast_MDN',\n",
       " 'forecast_MLP',\n",
       " 'forecast_MQRNN',\n",
       " 'forecast_NPTS',\n",
       " 'forecast_PROPHET',\n",
       " 'forecast_RFQR',\n",
       " 'forecast_SQF']"
      ]
     },
     "execution_count": 17,
     "metadata": {},
     "output_type": "execute_result"
    }
   ],
   "source": [
    "# View Recipes\n",
    "forecast.list_recipes()[\"RecipeNames\"]"
   ]
  },
  {
   "cell_type": "code",
   "execution_count": 18,
   "metadata": {},
   "outputs": [
    {
     "name": "stdout",
     "output_type": "stream",
     "text": [
      "training...\n",
      "Status: ACTIVE, training time: 0:37:09.766027\n"
     ]
    }
   ],
   "source": [
    "groupname = 'eledemo1'\n",
    "recipe = 'forecast_arima'\n",
    "predictor_name = 'eledemo1_arima'\n",
    "horizon = 24\n",
    "stime = datetime.datetime.now()\n",
    "createPredictorResponse=forecast.create_predictor(\n",
    "                    RecipeName = recipe, \n",
    "                    DatasetGroupName = groupname, \n",
    "                    PredictorName = predictor_name, \n",
    "                    ForecastHorizon = horizon,\n",
    "                    RecipeParameters = {\n",
    "                        \"HolidayCalendarName\":\"US\",\n",
    "                        \"GroupByForecastKeys\": [\"location\"]}\n",
    "                    )\n",
    "print(\"training...\")\n",
    "while True:\n",
    "    predictorStatus = forecast.describe_predictor(PredictorName=predictor_name)['Status']\n",
    "\n",
    "    if predictorStatus != 'ACTIVE' and predictorStatus != 'FAILED':\n",
    "        sleep(30)\n",
    "    elif predictorStatus == 'FAILED':\n",
    "        print(\"{} FAILED after {}\".format(predictor_name, datetime.datetime.now() - stime ))\n",
    "    else:\n",
    "        break\n",
    "print(\"Status: {}, training time: {}\".format(predictorStatus, datetime.datetime.now() - stime))"
   ]
  },
  {
   "cell_type": "markdown",
   "metadata": {},
   "source": [
    "## Step 9: Evaluate Accuracy"
   ]
  },
  {
   "cell_type": "code",
   "execution_count": 22,
   "metadata": {},
   "outputs": [
    {
     "data": {
      "text/plain": [
       "{'p10': '0.06708607710679557',\n",
       " 'p50': '0.14091718099118966',\n",
       " 'p90': '0.09521835787233253',\n",
       " 'rmse': '4612.477657893568'}"
      ]
     },
     "execution_count": 22,
     "metadata": {},
     "output_type": "execute_result"
    }
   ],
   "source": [
    "forecastquery.get_accuracy_metrics(\n",
    "    PredictorName=predictor_name)['ErrorMetrics']['Metrics']"
   ]
  },
  {
   "cell_type": "markdown",
   "metadata": {},
   "source": [
    "## Step 10: Deploy Predictor"
   ]
  },
  {
   "cell_type": "code",
   "execution_count": null,
   "metadata": {},
   "outputs": [
    {
     "name": "stdout",
     "output_type": "stream",
     "text": [
      "deploying eledemo1_arima...\n"
     ]
    }
   ],
   "source": [
    "stime = datetime.datetime.now()\n",
    "\n",
    "forecast.deploy_predictor(PredictorName=predictor_name)\n",
    "\n",
    "print(\"deploying {}...\".format(predictor_name))\n",
    "while True:\n",
    "    deployedPredictorStatus = forecast.describe_deployed_predictor(\n",
    "        PredictorName=predictor_name)['Status']\n",
    "    if deployedPredictorStatus != 'ACTIVE' and deployedPredictorStatus != 'FAILED':\n",
    "        sleep(30)\n",
    "    else:\n",
    "        break\n",
    "print(\"Status: {}, deployment time: {}\".format(predictorStatus, datetime.datetime.now() - stime))"
   ]
  },
  {
   "cell_type": "code",
   "execution_count": 25,
   "metadata": {},
   "outputs": [
    {
     "data": {
      "text/plain": [
       "{'PredictorNames': ['eledemo1_arima'],\n",
       " 'ResponseMetadata': {'RequestId': 'bf20cd81-0040-4112-b3c0-bd988810ff22',\n",
       "  'HTTPStatusCode': 200,\n",
       "  'HTTPHeaders': {'content-type': 'application/x-amz-json-1.1',\n",
       "   'date': 'Sat, 04 May 2019 02:37:07 GMT',\n",
       "   'x-amzn-requestid': 'bf20cd81-0040-4112-b3c0-bd988810ff22',\n",
       "   'content-length': '37',\n",
       "   'connection': 'keep-alive'},\n",
       "  'RetryAttempts': 0}}"
      ]
     },
     "execution_count": 25,
     "metadata": {},
     "output_type": "execute_result"
    }
   ],
   "source": [
    "forecast.list_deployed_predictors()"
   ]
  },
  {
   "cell_type": "markdown",
   "metadata": {},
   "source": [
    "# How To Query AWS Forecast"
   ]
  },
  {
   "cell_type": "code",
   "execution_count": 114,
   "metadata": {},
   "outputs": [],
   "source": [
    "predictor_name = 'eledemo1_arima'\n",
    "i, s = \"1\", \"1\"\n",
    "name = predictor_name + \"_\" + \"i{}s{}.csv\".format(i,s)\n",
    "bucket = \"forecast-demo-ele\"\n",
    "key = \"output/{}\".format(name)"
   ]
  },
  {
   "cell_type": "code",
   "execution_count": 115,
   "metadata": {},
   "outputs": [
    {
     "data": {
      "text/html": [
       "<div>\n",
       "<style scoped>\n",
       "    .dataframe tbody tr th:only-of-type {\n",
       "        vertical-align: middle;\n",
       "    }\n",
       "\n",
       "    .dataframe tbody tr th {\n",
       "        vertical-align: top;\n",
       "    }\n",
       "\n",
       "    .dataframe thead th {\n",
       "        text-align: right;\n",
       "    }\n",
       "</style>\n",
       "<table border=\"1\" class=\"dataframe\">\n",
       "  <thead>\n",
       "    <tr style=\"text-align: right;\">\n",
       "      <th></th>\n",
       "      <th>Date</th>\n",
       "      <th>sales</th>\n",
       "    </tr>\n",
       "  </thead>\n",
       "  <tbody>\n",
       "    <tr>\n",
       "      <th>0</th>\n",
       "      <td>2012-10-22</td>\n",
       "      <td>11568.519531</td>\n",
       "    </tr>\n",
       "    <tr>\n",
       "      <th>1</th>\n",
       "      <td>2012-10-29</td>\n",
       "      <td>18808.304688</td>\n",
       "    </tr>\n",
       "  </tbody>\n",
       "</table>\n",
       "</div>"
      ],
      "text/plain": [
       "        Date         sales\n",
       "0 2012-10-22  11568.519531\n",
       "1 2012-10-29  18808.304688"
      ]
     },
     "execution_count": 115,
     "metadata": {},
     "output_type": "execute_result"
    }
   ],
   "source": [
    "forecastResponse = forecastquery.get_forecast(PredictorName=predictor_name,\n",
    "                                              Interval=\"week\",\n",
    "                                              Filters={\"item_id\":i,\"location\":s})\n",
    "d = pd.DataFrame.from_dict(forecastResponse['Forecast'])\n",
    "mean = pd.DataFrame.from_dict(d.loc['mean']['Predictions']).dropna().rename(columns = {'Val':'sales'})\n",
    "mean[\"Date\"] = pd.to_datetime(mean.Date, format=\"%Y-%m-%d\")\n",
    "mean.head(n=2)"
   ]
  },
  {
   "cell_type": "code",
   "execution_count": 116,
   "metadata": {},
   "outputs": [],
   "source": [
    "p10 = pd.DataFrame.from_dict(d.loc['p10']['Predictions']).dropna().rename(columns = {'Val':'sales'})\n",
    "p10[\"Date\"] = pd.to_datetime(mean.Date, format=\"%Y-%m-%d\")\n",
    "\n",
    "p90 = pd.DataFrame.from_dict(d.loc['p90']['Predictions']).dropna().rename(columns = {'Val':'sales'})\n",
    "p90[\"Date\"] = pd.to_datetime(mean.Date, format=\"%Y-%m-%d\")"
   ]
  },
  {
   "cell_type": "markdown",
   "metadata": {},
   "source": [
    "### Save Query to S3"
   ]
  },
  {
   "cell_type": "code",
   "execution_count": 117,
   "metadata": {},
   "outputs": [
    {
     "data": {
      "text/plain": [
       "{'ResponseMetadata': {'RequestId': '2D22402E219D0CFD',\n",
       "  'HostId': 'KHbrkyca5WNCC6QKCmrAndIzx/NllXPBbULa8eotcjWjuC84haoJllnsUxp5kT2scSmfJR7lblY=',\n",
       "  'HTTPStatusCode': 200,\n",
       "  'HTTPHeaders': {'x-amz-id-2': 'KHbrkyca5WNCC6QKCmrAndIzx/NllXPBbULa8eotcjWjuC84haoJllnsUxp5kT2scSmfJR7lblY=',\n",
       "   'x-amz-request-id': '2D22402E219D0CFD',\n",
       "   'date': 'Sat, 04 May 2019 03:28:44 GMT',\n",
       "   'etag': '\"124fbd2f0f1ea8672814d308b954e127\"',\n",
       "   'content-length': '0',\n",
       "   'server': 'AmazonS3'},\n",
       "  'RetryAttempts': 0},\n",
       " 'ETag': '\"124fbd2f0f1ea8672814d308b954e127\"'}"
      ]
     },
     "execution_count": 117,
     "metadata": {},
     "output_type": "execute_result"
    }
   ],
   "source": [
    "csv_buffer = StringIO()\n",
    "mean.to_csv(csv_buffer, header=True, index=False)\n",
    "boto3.resource('s3').Object(bucket,key).put(Body=csv_buffer.getvalue())"
   ]
  },
  {
   "cell_type": "markdown",
   "metadata": {},
   "source": [
    "# Evaluate Forecast Results\n",
    "\n",
    "#### Get Historical Data"
   ]
  },
  {
   "cell_type": "code",
   "execution_count": 124,
   "metadata": {},
   "outputs": [
    {
     "data": {
      "text/html": [
       "<div>\n",
       "<style scoped>\n",
       "    .dataframe tbody tr th:only-of-type {\n",
       "        vertical-align: middle;\n",
       "    }\n",
       "\n",
       "    .dataframe tbody tr th {\n",
       "        vertical-align: top;\n",
       "    }\n",
       "\n",
       "    .dataframe thead th {\n",
       "        text-align: right;\n",
       "    }\n",
       "</style>\n",
       "<table border=\"1\" class=\"dataframe\">\n",
       "  <thead>\n",
       "    <tr style=\"text-align: right;\">\n",
       "      <th></th>\n",
       "      <th>timestamp</th>\n",
       "      <th>demand</th>\n",
       "    </tr>\n",
       "  </thead>\n",
       "  <tbody>\n",
       "    <tr>\n",
       "      <th>0</th>\n",
       "      <td>2010-02-05</td>\n",
       "      <td>24924.50</td>\n",
       "    </tr>\n",
       "    <tr>\n",
       "      <th>1</th>\n",
       "      <td>2010-02-12</td>\n",
       "      <td>46039.49</td>\n",
       "    </tr>\n",
       "    <tr>\n",
       "      <th>2</th>\n",
       "      <td>2010-02-19</td>\n",
       "      <td>41595.55</td>\n",
       "    </tr>\n",
       "    <tr>\n",
       "      <th>3</th>\n",
       "      <td>2010-02-26</td>\n",
       "      <td>19403.54</td>\n",
       "    </tr>\n",
       "    <tr>\n",
       "      <th>4</th>\n",
       "      <td>2010-03-05</td>\n",
       "      <td>21827.90</td>\n",
       "    </tr>\n",
       "  </tbody>\n",
       "</table>\n",
       "</div>"
      ],
      "text/plain": [
       "   timestamp    demand\n",
       "0 2010-02-05  24924.50\n",
       "1 2010-02-12  46039.49\n",
       "2 2010-02-19  41595.55\n",
       "3 2010-02-26  19403.54\n",
       "4 2010-03-05  21827.90"
      ]
     },
     "execution_count": 124,
     "metadata": {},
     "output_type": "execute_result"
    }
   ],
   "source": [
    "bucket = \"forecast-demo-ele\"\n",
    "key = \"inputEa/item_{}/i{}_s{}.csv\".format(i,i,s)\n",
    "obj = boto3.client('s3').get_object(Bucket=bucket, Key=key)\n",
    "hist = pd.read_csv(obj['Body'])\n",
    "hist[\"timestamp\"] = pd.to_datetime(hist.timestamp, infer_datetime_format=True)\n",
    "hist.head()"
   ]
  },
  {
   "cell_type": "code",
   "execution_count": 126,
   "metadata": {},
   "outputs": [
    {
     "data": {
      "image/png": "[encoded data removed]",
      "text/plain": [
       "<Figure size 1152x360 with 1 Axes>"
      ]
     },
     "metadata": {},
     "output_type": "display_data"
    }
   ],
   "source": [
    "fig, ax = plt.subplots(figsize=(16,5))\n",
    "hist.plot(x=\"timestamp\",y=\"demand\",ax=ax, color='black')\n",
    "mean.plot(x=\"Date\",y=\"sales\",ax=ax, color='blue', style='--', label=\"mean\")\n",
    "p10.plot(x=\"Date\",y=\"sales\",ax=ax, color='blue', style='--', label=\"p10\")\n",
    "p90.plot(x=\"Date\",y=\"sales\",ax=ax, color='blue', style='--', label=\"p90\")\n",
    "ax.set_title(\"Weekly Forecast Sales for Store 1, Department 1\")\n",
    "ax.set_ylabel(\"Sales\")\n",
    "plt.show()"
   ]
  },
  {
   "cell_type": "code",
   "execution_count": null,
   "metadata": {},
   "outputs": [],
   "source": []
  }
 ],
 "metadata": {
  "kernelspec": {
   "display_name": "conda_python3",
   "language": "python",
   "name": "conda_python3"
  },
  "language_info": {
   "codemirror_mode": {
    "name": "ipython",
    "version": 3
   },
   "file_extension": ".py",
   "mimetype": "text/x-python",
   "name": "python",
   "nbconvert_exporter": "python",
   "pygments_lexer": "ipython3",
   "version": "3.6.5"
  }
 },
 "nbformat": 4,
 "nbformat_minor": 2
}
