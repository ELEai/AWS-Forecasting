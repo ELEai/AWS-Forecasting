{
 "cells": [
  {
   "cell_type": "markdown",
   "metadata": {},
   "source": [
    "# AWS Forecast Demo with ELE.ai (ETS)"
   ]
  },
  {
   "cell_type": "code",
   "execution_count": 1,
   "metadata": {},
   "outputs": [],
   "source": [
    "# Libraries\n",
    "import boto3\n",
    "import datetime\n",
    "import pandas as pd\n",
    "from time import sleep\n",
    "from io import StringIO\n",
    "import matplotlib.pyplot as plt"
   ]
  },
  {
   "cell_type": "markdown",
   "metadata": {},
   "source": [
    "## Step 1: Configure the CLI\n",
    "\n",
    "download SDK files from [github](https://github.com/aws-samples/amazon-forecast-samples/tree/master/sdk) and [configure CLI ](https://docs.aws.amazon.com/forecast/latest/dg/aws-forecast-set-up-aws-cli.html)"
   ]
  },
  {
   "cell_type": "raw",
   "metadata": {},
   "source": [
    "! wget https://raw.githubusercontent.com/aws-samples/amazon-forecast-samples/master/sdk/forecast-2018-06-26.normal.json -P setup_files"
   ]
  },
  {
   "cell_type": "raw",
   "metadata": {},
   "source": [
    "! wget https://raw.githubusercontent.com/aws-samples/amazon-forecast-samples/master/sdk/forecastquery-2018-06-26.normal.json -P setup_files"
   ]
  },
  {
   "cell_type": "code",
   "execution_count": 2,
   "metadata": {},
   "outputs": [],
   "source": [
    "# Configures your AWS CLI to interact with AWS Forecast Service\n",
    "! aws configure add-model --service-name forecast --service-model file://setup_files/forecast-2018-06-26.normal.json\n",
    "! aws configure add-model --service-name forecastquery --service-model file://setup_files/forecastquery-2018-06-26.normal.json"
   ]
  },
  {
   "cell_type": "markdown",
   "metadata": {},
   "source": [
    "## Step 2: Start Boto Session & Define S3 Bucket"
   ]
  },
  {
   "cell_type": "code",
   "execution_count": 3,
   "metadata": {},
   "outputs": [],
   "source": [
    "session = boto3.Session(region_name='us-east-1') #also available in us-west-2\n",
    "forecast = session.client(service_name='forecast')\n",
    "forecastquery = session.client(service_name='forecastquery')"
   ]
  },
  {
   "cell_type": "raw",
   "metadata": {},
   "source": [
    "# us-east-1 or us-west-2\n",
    "! aws s3api create-bucket --bucket forecast-demo-ele --region us-east-1"
   ]
  },
  {
   "cell_type": "markdown",
   "metadata": {},
   "source": [
    "## Step 3: Define IAM role "
   ]
  },
  {
   "cell_type": "code",
   "execution_count": 4,
   "metadata": {},
   "outputs": [],
   "source": [
    "role_name = 'amazonforecast'\n",
    "accountId = boto3.client('sts').get_caller_identity().get('Account')\n",
    "role = 'arn:aws:iam::{}:role/{}'.format(accountId, role_name)"
   ]
  },
  {
   "cell_type": "markdown",
   "metadata": {},
   "source": [
    "## Step 4: Load & Transform Dataset\n",
    "\n",
    "### Target Time Series"
   ]
  },
  {
   "cell_type": "raw",
   "metadata": {},
   "source": [
    "df1 = pd.read_csv(\"data/train.csv\")\n",
    "df1.head()"
   ]
  },
  {
   "cell_type": "raw",
   "metadata": {},
   "source": [
    "df1.Store = df1.Store.astype('str')\n",
    "df1.Dept = df1.Dept.astype('str')\n",
    "df1.IsHoliday = [1 if i else 0 for i in df1.IsHoliday]\n",
    "df1.Date = df1.Date.astype('datetime64[ns]')"
   ]
  },
  {
   "cell_type": "raw",
   "metadata": {},
   "source": [
    "df1.head()"
   ]
  },
  {
   "cell_type": "raw",
   "metadata": {},
   "source": [
    "df1 = df1[[\"Store\",\"Dept\",\"Date\",\"Weekly_Sales\"]]\n",
    "df1.columns = [\"location\",\"item_id\",\"timestamp\",\"demand\"]\n",
    "df1 = df1[[\"timestamp\",\"demand\",\"item_id\",\"location\"]]\n",
    "df1.head()"
   ]
  },
  {
   "cell_type": "markdown",
   "metadata": {},
   "source": [
    "### Upload to s3"
   ]
  },
  {
   "cell_type": "raw",
   "metadata": {},
   "source": [
    "df1.to_csv(\"data/target.csv\", header=True, index=False)\n",
    "! aws s3 cp data/target.csv s3://forecast-demo-ele/input/target.csv"
   ]
  },
  {
   "cell_type": "markdown",
   "metadata": {},
   "source": [
    "## Step 5: Create Dataset & Dataset Group in AWS Forecast"
   ]
  },
  {
   "cell_type": "raw",
   "metadata": {},
   "source": [
    "schema ={\n",
    "               \"Attributes\":[\n",
    "                  {\n",
    "                     \"AttributeName\":\"timestamp\",\n",
    "                     \"AttributeType\":\"timestamp\"\n",
    "                  },\n",
    "                  {\n",
    "                     \"AttributeName\":\"demand\",\n",
    "                     \"AttributeType\":\"float\"\n",
    "                  },\n",
    "                  {\n",
    "                     \"AttributeName\":\"item_id\",\n",
    "                     \"AttributeType\":\"string\"\n",
    "                  },\n",
    "                   {\n",
    "                     \"AttributeName\":\"location\",\n",
    "                     \"AttributeType\":\"string\"\n",
    "                  }\n",
    "               ]\n",
    "            }"
   ]
  },
  {
   "cell_type": "raw",
   "metadata": {},
   "source": [
    "stime = datetime.datetime.now()\n",
    "\n",
    "forecast.create_dataset(\n",
    "                        Domain=\"RETAIL\",\n",
    "                        DatasetType='TARGET_TIME_SERIES',\n",
    "                        DataFormat='CSV',\n",
    "                        DatasetName= 'target',\n",
    "                        DataFrequency=\"W\", \n",
    "                        TimeStampFormat=\"yyyy-MM-dd hh:mm:ss\",\n",
    "                        Schema = schema\n",
    "                        )\n",
    "\n",
    "print(datetime.datetime.now() - stime) "
   ]
  },
  {
   "cell_type": "raw",
   "metadata": {},
   "source": [
    "stime = datetime.datetime.now()\n",
    "\n",
    "groupname = 'eledemo1'\n",
    "forecast.create_dataset_group(DatasetGroupName=groupname,RoleArn=role,DatasetNames=[\"target\"])\n",
    "forecast.describe_dataset_group(DatasetGroupName=groupname)\n",
    "\n",
    "print(datetime.datetime.now() - stime) "
   ]
  },
  {
   "cell_type": "markdown",
   "metadata": {},
   "source": [
    "## Step 7: Import Dataset in AWS Forecast"
   ]
  },
  {
   "cell_type": "raw",
   "metadata": {},
   "source": [
    "stime = datetime.datetime.now()\n",
    "\n",
    "path = 's3://forecast-demo-ele/input/target.csv'\n",
    "import_job =forecast.create_dataset_import_job(\n",
    "                                                DatasetName='target', \n",
    "                                                Delimiter=',', \n",
    "                                                DatasetGroupName = groupname, \n",
    "                                                S3Uri= path)\n",
    "vId = import_job['VersionId']\n",
    "print(\"DATASET VERSION ID: \", vId)\n",
    "print(\"importing dataset...\")\n",
    "while True:\n",
    "    ImportStatus = forecast.describe_dataset_import_job(DatasetName='target', VersionId=vId)['Status']\n",
    "    if ImportStatus != 'ACTIVE' and ImportStatus != 'FAILED':\n",
    "        sleep(10)\n",
    "    else:\n",
    "        break\n",
    "    \n",
    "if forecast.describe_dataset(DatasetName='target')['Status'] == 'FAILED':\n",
    "    print(\"import job failed\")\n",
    "else:\n",
    "    print(datetime.datetime.now() - stime) "
   ]
  },
  {
   "cell_type": "markdown",
   "metadata": {},
   "source": [
    "## Step 8: Train Predictor Model in AWS Forecast"
   ]
  },
  {
   "cell_type": "code",
   "execution_count": 5,
   "metadata": {},
   "outputs": [
    {
     "data": {
      "text/plain": [
       "['forecast_ARIMA',\n",
       " 'forecast_DEEP_AR',\n",
       " 'forecast_DEEP_AR_PLUS',\n",
       " 'forecast_ETS',\n",
       " 'forecast_MDN',\n",
       " 'forecast_MLP',\n",
       " 'forecast_MQRNN',\n",
       " 'forecast_NPTS',\n",
       " 'forecast_PROPHET',\n",
       " 'forecast_RFQR',\n",
       " 'forecast_SQF']"
      ]
     },
     "execution_count": 5,
     "metadata": {},
     "output_type": "execute_result"
    }
   ],
   "source": [
    "# View Recipes\n",
    "forecast.list_recipes()[\"RecipeNames\"]"
   ]
  },
  {
   "cell_type": "code",
   "execution_count": null,
   "metadata": {},
   "outputs": [
    {
     "name": "stdout",
     "output_type": "stream",
     "text": [
      "training...\n"
     ]
    }
   ],
   "source": [
    "groupname = 'eledemo1'\n",
    "recipe = 'forecast_ets'\n",
    "predictor_name = 'eledemo1_ets'\n",
    "horizon = 24\n",
    "stime = datetime.datetime.now()\n",
    "createPredictorResponse=forecast.create_predictor(\n",
    "                    RecipeName = recipe, \n",
    "                    DatasetGroupName = groupname, \n",
    "                    PredictorName = predictor_name, \n",
    "                    ForecastHorizon = horizon,\n",
    "                    RecipeParameters = {\n",
    "                        \"HolidayCalendarName\":\"US\",\n",
    "                        \"GroupByForecastKeys\": [\"location\"]}\n",
    "                    )\n",
    "print(\"training...\")\n",
    "while True:\n",
    "    predictorStatus = forecast.describe_predictor(PredictorName=predictor_name)['Status']\n",
    "\n",
    "    if predictorStatus != 'ACTIVE' and predictorStatus != 'FAILED':\n",
    "        sleep(30)\n",
    "    elif predictorStatus == 'FAILED':\n",
    "        print(\"{} FAILED after {}\".format(predictor_name, datetime.datetime.now() - stime ))\n",
    "    else:\n",
    "        break\n",
    "print(\"Status: {}, training time: {}\".format(predictorStatus, datetime.datetime.now() - stime))"
   ]
  },
  {
   "cell_type": "markdown",
   "metadata": {},
   "source": [
    "## Step 9: Evaluate Accuracy"
   ]
  },
  {
   "cell_type": "code",
   "execution_count": 15,
   "metadata": {},
   "outputs": [
    {
     "data": {
      "text/plain": [
       "{'p10': '0.09301801061659426',\n",
       " 'p50': '0.15048531262834486',\n",
       " 'p90': '0.11085561407697288',\n",
       " 'rmse': '5424.094999887272'}"
      ]
     },
     "execution_count": 15,
     "metadata": {},
     "output_type": "execute_result"
    }
   ],
   "source": [
    "forecastquery.get_accuracy_metrics(\n",
    "    PredictorName=predictor_name)['ErrorMetrics']['Metrics']"
   ]
  },
  {
   "cell_type": "markdown",
   "metadata": {},
   "source": [
    "## Step 10: Deploy Predictor"
   ]
  },
  {
   "cell_type": "code",
   "execution_count": null,
   "metadata": {},
   "outputs": [],
   "source": [
    "stime = datetime.datetime.now()\n",
    "\n",
    "forecast.deploy_predictor(PredictorName=predictor_name)\n",
    "\n",
    "print(\"deploying {}...\".format(predictor_name))\n",
    "while True:\n",
    "    deployedPredictorStatus = forecast.describe_deployed_predictor(\n",
    "        PredictorName=predictor_name)['Status']\n",
    "    if deployedPredictorStatus != 'ACTIVE' and deployedPredictorStatus != 'FAILED':\n",
    "        sleep(30)\n",
    "    else:\n",
    "        break\n",
    "print(\"Status: {}, deployment time: {}\".format(predictorStatus, datetime.datetime.now() - stime))"
   ]
  },
  {
   "cell_type": "code",
   "execution_count": 16,
   "metadata": {},
   "outputs": [
    {
     "data": {
      "text/plain": [
       "{'PredictorNames': ['eledemo1_arima', 'eledemo1_ets'],\n",
       " 'ResponseMetadata': {'RequestId': '39e09df7-636c-4eaa-8d86-cb96e0e816ed',\n",
       "  'HTTPStatusCode': 200,\n",
       "  'HTTPHeaders': {'content-type': 'application/x-amz-json-1.1',\n",
       "   'date': 'Sat, 04 May 2019 05:20:44 GMT',\n",
       "   'x-amzn-requestid': '39e09df7-636c-4eaa-8d86-cb96e0e816ed',\n",
       "   'content-length': '52',\n",
       "   'connection': 'keep-alive'},\n",
       "  'RetryAttempts': 0}}"
      ]
     },
     "execution_count": 16,
     "metadata": {},
     "output_type": "execute_result"
    }
   ],
   "source": [
    "forecast.list_deployed_predictors()"
   ]
  },
  {
   "cell_type": "markdown",
   "metadata": {},
   "source": [
    "# How To Query AWS Forecast"
   ]
  },
  {
   "cell_type": "code",
   "execution_count": 26,
   "metadata": {},
   "outputs": [],
   "source": [
    "predictor_name = 'eledemo1_ets'\n",
    "i, s = \"1\", \"1\"\n",
    "name = predictor_name + \"_\" + \"i{}s{}.csv\".format(i,s)\n",
    "bucket = \"forecast-demo-ele\"\n",
    "key = \"output/{}\".format(name)"
   ]
  },
  {
   "cell_type": "code",
   "execution_count": 27,
   "metadata": {},
   "outputs": [
    {
     "data": {
      "text/html": [
       "<div>\n",
       "<style scoped>\n",
       "    .dataframe tbody tr th:only-of-type {\n",
       "        vertical-align: middle;\n",
       "    }\n",
       "\n",
       "    .dataframe tbody tr th {\n",
       "        vertical-align: top;\n",
       "    }\n",
       "\n",
       "    .dataframe thead th {\n",
       "        text-align: right;\n",
       "    }\n",
       "</style>\n",
       "<table border=\"1\" class=\"dataframe\">\n",
       "  <thead>\n",
       "    <tr style=\"text-align: right;\">\n",
       "      <th></th>\n",
       "      <th>Date</th>\n",
       "      <th>sales</th>\n",
       "    </tr>\n",
       "  </thead>\n",
       "  <tbody>\n",
       "    <tr>\n",
       "      <th>0</th>\n",
       "      <td>2012-10-22</td>\n",
       "      <td>192.170837</td>\n",
       "    </tr>\n",
       "    <tr>\n",
       "      <th>1</th>\n",
       "      <td>2012-10-29</td>\n",
       "      <td>192.170837</td>\n",
       "    </tr>\n",
       "  </tbody>\n",
       "</table>\n",
       "</div>"
      ],
      "text/plain": [
       "        Date       sales\n",
       "0 2012-10-22  192.170837\n",
       "1 2012-10-29  192.170837"
      ]
     },
     "execution_count": 27,
     "metadata": {},
     "output_type": "execute_result"
    }
   ],
   "source": [
    "forecastResponse = forecastquery.get_forecast(PredictorName=predictor_name,\n",
    "                                              Interval=\"week\",\n",
    "                                              Filters={\"item_id\":i,\"location\":s})\n",
    "d = pd.DataFrame.from_dict(forecastResponse['Forecast'])\n",
    "mean = pd.DataFrame.from_dict(d.loc['mean']['Predictions']).dropna().rename(columns = {'Val':'sales'})\n",
    "mean[\"Date\"] = pd.to_datetime(mean.Date, format=\"%Y-%m-%d\")\n",
    "mean.head(n=2)"
   ]
  },
  {
   "cell_type": "code",
   "execution_count": 28,
   "metadata": {},
   "outputs": [],
   "source": [
    "p10 = pd.DataFrame.from_dict(d.loc['p10']['Predictions']).dropna().rename(columns = {'Val':'sales'})\n",
    "p10[\"Date\"] = pd.to_datetime(mean.Date, format=\"%Y-%m-%d\")\n",
    "\n",
    "p90 = pd.DataFrame.from_dict(d.loc['p90']['Predictions']).dropna().rename(columns = {'Val':'sales'})\n",
    "p90[\"Date\"] = pd.to_datetime(mean.Date, format=\"%Y-%m-%d\")"
   ]
  },
  {
   "cell_type": "markdown",
   "metadata": {},
   "source": [
    "### Save Query to S3"
   ]
  },
  {
   "cell_type": "code",
   "execution_count": 29,
   "metadata": {},
   "outputs": [
    {
     "data": {
      "text/plain": [
       "{'ResponseMetadata': {'RequestId': 'AA0B1BB4585C60D2',\n",
       "  'HostId': 'IZm+3bf/Vz8azM4fIEKJjKTfKNeXINwGCEnK/STsUfujYYmKY/ieHLFNe1Hmh7ud4CGx2J3dHXs=',\n",
       "  'HTTPStatusCode': 200,\n",
       "  'HTTPHeaders': {'x-amz-id-2': 'IZm+3bf/Vz8azM4fIEKJjKTfKNeXINwGCEnK/STsUfujYYmKY/ieHLFNe1Hmh7ud4CGx2J3dHXs=',\n",
       "   'x-amz-request-id': 'AA0B1BB4585C60D2',\n",
       "   'date': 'Sat, 04 May 2019 05:24:44 GMT',\n",
       "   'etag': '\"1e934920eb3d3fa0015ac8971cedb5d1\"',\n",
       "   'content-length': '0',\n",
       "   'server': 'AmazonS3'},\n",
       "  'RetryAttempts': 0},\n",
       " 'ETag': '\"1e934920eb3d3fa0015ac8971cedb5d1\"'}"
      ]
     },
     "execution_count": 29,
     "metadata": {},
     "output_type": "execute_result"
    }
   ],
   "source": [
    "csv_buffer = StringIO()\n",
    "mean.to_csv(csv_buffer, header=True, index=False)\n",
    "boto3.resource('s3').Object(bucket,key).put(Body=csv_buffer.getvalue())"
   ]
  },
  {
   "cell_type": "markdown",
   "metadata": {},
   "source": [
    "# Evaluate Forecast Results"
   ]
  },
  {
   "cell_type": "code",
   "execution_count": 30,
   "metadata": {},
   "outputs": [
    {
     "data": {
      "text/html": [
       "<div>\n",
       "<style scoped>\n",
       "    .dataframe tbody tr th:only-of-type {\n",
       "        vertical-align: middle;\n",
       "    }\n",
       "\n",
       "    .dataframe tbody tr th {\n",
       "        vertical-align: top;\n",
       "    }\n",
       "\n",
       "    .dataframe thead th {\n",
       "        text-align: right;\n",
       "    }\n",
       "</style>\n",
       "<table border=\"1\" class=\"dataframe\">\n",
       "  <thead>\n",
       "    <tr style=\"text-align: right;\">\n",
       "      <th></th>\n",
       "      <th>timestamp</th>\n",
       "      <th>demand</th>\n",
       "      <th>item_id</th>\n",
       "    </tr>\n",
       "  </thead>\n",
       "  <tbody>\n",
       "    <tr>\n",
       "      <th>0</th>\n",
       "      <td>2010-02-05</td>\n",
       "      <td>24924.50</td>\n",
       "      <td>1</td>\n",
       "    </tr>\n",
       "    <tr>\n",
       "      <th>1</th>\n",
       "      <td>2010-02-12</td>\n",
       "      <td>46039.49</td>\n",
       "      <td>1</td>\n",
       "    </tr>\n",
       "    <tr>\n",
       "      <th>2</th>\n",
       "      <td>2010-02-19</td>\n",
       "      <td>41595.55</td>\n",
       "      <td>1</td>\n",
       "    </tr>\n",
       "    <tr>\n",
       "      <th>3</th>\n",
       "      <td>2010-02-26</td>\n",
       "      <td>19403.54</td>\n",
       "      <td>1</td>\n",
       "    </tr>\n",
       "    <tr>\n",
       "      <th>4</th>\n",
       "      <td>2010-03-05</td>\n",
       "      <td>21827.90</td>\n",
       "      <td>1</td>\n",
       "    </tr>\n",
       "  </tbody>\n",
       "</table>\n",
       "</div>"
      ],
      "text/plain": [
       "   timestamp    demand  item_id\n",
       "0 2010-02-05  24924.50        1\n",
       "1 2010-02-12  46039.49        1\n",
       "2 2010-02-19  41595.55        1\n",
       "3 2010-02-26  19403.54        1\n",
       "4 2010-03-05  21827.90        1"
      ]
     },
     "execution_count": 30,
     "metadata": {},
     "output_type": "execute_result"
    }
   ],
   "source": [
    "bucket = \"forecast-demo-ele\"\n",
    "key = \"inputEa/item_{}/i{}s{}.csv\".format(i,i,s)\n",
    "obj = boto3.client('s3').get_object(Bucket=bucket, Key=key)\n",
    "hist = pd.read_csv(obj['Body'])\n",
    "hist[\"timestamp\"] = pd.to_datetime(hist.timestamp, infer_datetime_format=True)\n",
    "hist.head()"
   ]
  },
  {
   "cell_type": "code",
   "execution_count": 31,
   "metadata": {},
   "outputs": [
    {
     "data": {
      "image/png": "[encoded data removed]",
      "text/plain": [
       "<Figure size 1152x360 with 1 Axes>"
      ]
     },
     "metadata": {},
     "output_type": "display_data"
    }
   ],
   "source": [
    "fig, ax = plt.subplots(figsize=(16,5))\n",
    "hist.plot(x=\"timestamp\",y=\"demand\",ax=ax, color='black')\n",
    "mean.plot(x=\"Date\",y=\"sales\",ax=ax, color='blue', style='--', label=\"mean\")\n",
    "p10.plot(x=\"Date\",y=\"sales\",ax=ax, color='blue', style='--', label=\"p10\")\n",
    "p90.plot(x=\"Date\",y=\"sales\",ax=ax, color='blue', style='--', label=\"p90\")\n",
    "ax.set_title(\"Weekly Forecast Sales for Store 1, Department 1\")\n",
    "ax.set_ylabel(\"Sales\")\n",
    "plt.show()"
   ]
  },
  {
   "cell_type": "code",
   "execution_count": null,
   "metadata": {},
   "outputs": [],
   "source": []
  }
 ],
 "metadata": {
  "kernelspec": {
   "display_name": "conda_python3",
   "language": "python",
   "name": "conda_python3"
  },
  "language_info": {
   "codemirror_mode": {
    "name": "ipython",
    "version": 3
   },
   "file_extension": ".py",
   "mimetype": "text/x-python",
   "name": "python",
   "nbconvert_exporter": "python",
   "pygments_lexer": "ipython3",
   "version": "3.6.5"
  }
 },
 "nbformat": 4,
 "nbformat_minor": 2
}
